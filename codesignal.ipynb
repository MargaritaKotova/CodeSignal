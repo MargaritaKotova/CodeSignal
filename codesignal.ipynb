{
 "cells": [
  {
   "cell_type": "markdown",
   "metadata": {},
   "source": [
    "1.Write a function that returns the sum of two numbers."
   ]
  },
  {
   "cell_type": "code",
   "execution_count": 3,
   "metadata": {},
   "outputs": [],
   "source": [
    "def add(param1, param2):\n",
    "    return param1+param2"
   ]
  },
  {
   "cell_type": "markdown",
   "metadata": {},
   "source": [
    "2. Given a year, return the century it is in. The first century spans from the year 1 up to and including the year 100, the second - from the year 101 up to and including the year 200, etc."
   ]
  },
  {
   "cell_type": "code",
   "execution_count": 6,
   "metadata": {},
   "outputs": [],
   "source": [
    "def centuryFromYear(year):\n",
    "    if (year % 100 != 0):\n",
    "        return year // 100 + 1\n",
    "    else:\n",
    "        return year // 100"
   ]
  },
  {
   "cell_type": "markdown",
   "metadata": {},
   "source": [
    "3. Given the string, check if it is a palindrome."
   ]
  },
  {
   "cell_type": "code",
   "execution_count": 27,
   "metadata": {},
   "outputs": [],
   "source": [
    "def checkPalindrome(inputString):\n",
    "    l = list(inputString)\n",
    "    lenth=len(l)\n",
    "    m=lenth-1\n",
    "    for s in range(lenth // 2 +1):\n",
    "        print(l[s], l[m])\n",
    "        if (l[s] == l[m]):\n",
    "            m-=1\n",
    "            if (s==lenth // 2 ):\n",
    "                return True\n",
    "        else:\n",
    "            return False\n",
    "    \n",
    "    "
   ]
  },
  {
   "cell_type": "code",
   "execution_count": 29,
   "metadata": {},
   "outputs": [
    {
     "name": "stdout",
     "output_type": "stream",
     "text": [
      "a a\n",
      "m a\n"
     ]
    },
    {
     "data": {
      "text/plain": [
       "False"
      ]
     },
     "execution_count": 29,
     "metadata": {},
     "output_type": "execute_result"
    }
   ],
   "source": [
    "checkPalindrome(\"ambaa\")"
   ]
  },
  {
   "cell_type": "markdown",
   "metadata": {},
   "source": [
    "4. Given an array of integers, find the pair of adjacent elements that has the largest product and return that product."
   ]
  },
  {
   "cell_type": "code",
   "execution_count": 18,
   "metadata": {},
   "outputs": [],
   "source": [
    "def adjacentElementsProduct(inputArray):\n",
    "    new=[]\n",
    "    for el in range(len(inputArray)-1):\n",
    "        dot = inputArray[el] * inputArray[el+1]\n",
    "        new.append(dot)\n",
    "\n",
    "    max=new[0]\n",
    "    for i in range(len(new)):\n",
    "        if (max<new[i]):\n",
    "            max=new[i]\n",
    "    return max"
   ]
  },
  {
   "cell_type": "code",
   "execution_count": 19,
   "metadata": {},
   "outputs": [
    {
     "data": {
      "text/plain": [
       "21"
      ]
     },
     "execution_count": 19,
     "metadata": {},
     "output_type": "execute_result"
    }
   ],
   "source": [
    "adjacentElementsProduct([3, 6, -2, -5, 7, 3])"
   ]
  },
  {
   "cell_type": "markdown",
   "metadata": {},
   "source": [
    "5. Below we will define an n-interesting polygon. Your task is to find the area of a polygon for a given n.\n",
    "\n",
    "A 1-interesting polygon is just a square with a side of length 1. An n-interesting polygon is obtained by taking the n - 1-interesting polygon and appending 1-interesting polygons to its rim, side by side. You can see the 1-, 2-, 3- and 4-interesting polygons in the picture below."
   ]
  },
  {
   "cell_type": "code",
   "execution_count": 6,
   "metadata": {},
   "outputs": [],
   "source": [
    "def shapeArea(n):\n",
    "    if (n==1):\n",
    "        return 1\n",
    "    else:\n",
    "        itog = (n-1)*(n-1)+n*n\n",
    "    return itog"
   ]
  },
  {
   "cell_type": "code",
   "execution_count": 11,
   "metadata": {},
   "outputs": [
    {
     "data": {
      "text/plain": [
       "19801"
      ]
     },
     "execution_count": 11,
     "metadata": {},
     "output_type": "execute_result"
    }
   ],
   "source": [
    "shapeArea(100)"
   ]
  },
  {
   "cell_type": "markdown",
   "metadata": {},
   "source": [
    "6. Ratiorg got statues of different sizes as a present from CodeMaster for his birthday, each statue having an non-negative integer size. Since he likes to make things perfect, he wants to arrange them from smallest to largest so that each statue will be bigger than the previous one exactly by 1. He may need some additional statues to be able to accomplish that. Help him figure out the minimum number of additional statues needed."
   ]
  },
  {
   "cell_type": "code",
   "execution_count": 19,
   "metadata": {},
   "outputs": [],
   "source": [
    "def makeArrayConsecutive2(statues):\n",
    "    length=1\n",
    "    while (length != len(statues)):\n",
    "\n",
    "        for i in range(len(statues)-length):\n",
    "            if (statues[i]>statues[i+1]):\n",
    "                temp = statues[i+1]\n",
    "                statues[i+1]=statues[i]\n",
    "                statues[i] = temp\n",
    "        length+=1  \n",
    "        \n",
    "\n",
    "    return statues[len(statues)-1]-statues[0]+1-len(statues)           "
   ]
  },
  {
   "cell_type": "code",
   "execution_count": 20,
   "metadata": {},
   "outputs": [],
   "source": [
    "statues = [8, 6, 3, 2]"
   ]
  },
  {
   "cell_type": "code",
   "execution_count": 21,
   "metadata": {},
   "outputs": [
    {
     "data": {
      "text/plain": [
       "3"
      ]
     },
     "execution_count": 21,
     "metadata": {},
     "output_type": "execute_result"
    }
   ],
   "source": [
    "makeArrayConsecutive2(statues)"
   ]
  },
  {
   "cell_type": "markdown",
   "metadata": {},
   "source": [
    "7. Given a sequence of integers as an array, determine whether it is possible to obtain a strictly increasing sequence by removing no more than one element from the array.\n",
    "\n",
    "Note: sequence a0, a1, ..., an is considered to be a strictly increasing if a0 < a1 < ... < an. Sequence containing only one element is also considered to be strictly increasing."
   ]
  },
  {
   "cell_type": "code",
   "execution_count": 92,
   "metadata": {},
   "outputs": [],
   "source": [
    "def almostIncreasingSequence(sequence):\n",
    "    found = 0;\n",
    "    for i in range(1,len(sequence)):\n",
    "      \n",
    "      if (sequence[i] <= sequence[i-1]):\n",
    "        #print(sequence[i])    \n",
    "        found+=1\n",
    "        # check if more than one nonincreasing found\n",
    "        if(found > 1): \n",
    "            return False; \n",
    "        \n",
    "        # check if second previous number is equal to / bigger than current number\n",
    "        # and previous number is equalto / bigger than next number\n",
    "    \n",
    "        if(i+1<=len(sequence)-1 and i-2 >=0 and sequence[i] <= sequence[i-2] and sequence[i+1] <= sequence[i-1]):\n",
    "            #print(sequence[i])\n",
    "            return False; \n",
    "      \n",
    "      \n",
    "     \n",
    "    return True;"
   ]
  },
  {
   "cell_type": "code",
   "execution_count": 93,
   "metadata": {},
   "outputs": [
    {
     "data": {
      "text/plain": [
       "False"
      ]
     },
     "execution_count": 93,
     "metadata": {},
     "output_type": "execute_result"
    }
   ],
   "source": [
    "sequence = [1, 2, 1, 2]\n",
    "almostIncreasingSequence(sequence)"
   ]
  },
  {
   "cell_type": "markdown",
   "metadata": {},
   "source": [
    "8. After becoming famous, the CodeBots decided to move into a new building together. Each of the rooms has a different cost, and some of them are free, but there's a rumour that all the free rooms are haunted! Since the CodeBots are quite superstitious, they refuse to stay in any of the free rooms, or any of the rooms below any of the free rooms.\n",
    "\n",
    "Given matrix, a rectangular matrix of integers, where each value represents the cost of the room, your task is to return the total sum of all rooms that are suitable for the CodeBots (ie: add up all the values that don't appear below a 0)."
   ]
  },
  {
   "cell_type": "code",
   "execution_count": 168,
   "metadata": {},
   "outputs": [],
   "source": [
    "def matrixElementsSum(matrix):\n",
    "    sum=0\n",
    "    for i in range(len(matrix[0])): \n",
    "        for row in matrix:\n",
    "            if ((row[i]!=0)):\n",
    "                sum+=row[i]\n",
    "            else:\n",
    "                break\n",
    "            \n",
    "    return sum\n",
    "    "
   ]
  },
  {
   "cell_type": "code",
   "execution_count": 177,
   "metadata": {},
   "outputs": [],
   "source": [
    "matrix =  [[1,1,1], \n",
    " [2,2,2], \n",
    " [3,3,3]]"
   ]
  },
  {
   "cell_type": "code",
   "execution_count": 180,
   "metadata": {},
   "outputs": [
    {
     "data": {
      "text/plain": [
       "18"
      ]
     },
     "execution_count": 180,
     "metadata": {},
     "output_type": "execute_result"
    }
   ],
   "source": [
    "matrixElementsSum(matrix)\n"
   ]
  },
  {
   "cell_type": "code",
   "execution_count": 190,
   "metadata": {},
   "outputs": [],
   "source": [
    "xs=[()]"
   ]
  },
  {
   "cell_type": "code",
   "execution_count": 191,
   "metadata": {},
   "outputs": [],
   "source": [
    "res = [False] * 2"
   ]
  },
  {
   "cell_type": "code",
   "execution_count": 192,
   "metadata": {},
   "outputs": [
    {
     "data": {
      "text/plain": [
       "[False, False]"
      ]
     },
     "execution_count": 192,
     "metadata": {},
     "output_type": "execute_result"
    }
   ],
   "source": [
    "res"
   ]
  },
  {
   "cell_type": "code",
   "execution_count": 193,
   "metadata": {},
   "outputs": [],
   "source": [
    "if xs:\n",
    "    res[0] = True\n",
    "if xs[0]:\n",
    "    res[1]=True"
   ]
  },
  {
   "cell_type": "code",
   "execution_count": 194,
   "metadata": {},
   "outputs": [
    {
     "data": {
      "text/plain": [
       "[True, False]"
      ]
     },
     "execution_count": 194,
     "metadata": {},
     "output_type": "execute_result"
    }
   ],
   "source": [
    "res"
   ]
  },
  {
   "cell_type": "code",
   "execution_count": 196,
   "metadata": {},
   "outputs": [],
   "source": [
    "a=5\n",
    "b=3"
   ]
  },
  {
   "cell_type": "code",
   "execution_count": 198,
   "metadata": {},
   "outputs": [
    {
     "data": {
      "text/plain": [
       "False"
      ]
     },
     "execution_count": 198,
     "metadata": {},
     "output_type": "execute_result"
    }
   ],
   "source": [
    "a == (not b)"
   ]
  },
  {
   "cell_type": "code",
   "execution_count": 199,
   "metadata": {},
   "outputs": [
    {
     "data": {
      "text/plain": [
       "True"
      ]
     },
     "execution_count": 199,
     "metadata": {},
     "output_type": "execute_result"
    }
   ],
   "source": [
    "not a==b"
   ]
  },
  {
   "cell_type": "code",
   "execution_count": 200,
   "metadata": {},
   "outputs": [
    {
     "data": {
      "text/plain": [
       "True"
      ]
     },
     "execution_count": 200,
     "metadata": {},
     "output_type": "execute_result"
    }
   ],
   "source": [
    "not (a==b)"
   ]
  },
  {
   "cell_type": "code",
   "execution_count": 201,
   "metadata": {},
   "outputs": [
    {
     "ename": "SyntaxError",
     "evalue": "invalid syntax (<ipython-input-201-112f780356d8>, line 1)",
     "output_type": "error",
     "traceback": [
      "\u001b[1;36m  File \u001b[1;32m\"<ipython-input-201-112f780356d8>\"\u001b[1;36m, line \u001b[1;32m1\u001b[0m\n\u001b[1;33m    a == not b\u001b[0m\n\u001b[1;37m           ^\u001b[0m\n\u001b[1;31mSyntaxError\u001b[0m\u001b[1;31m:\u001b[0m invalid syntax\n"
     ]
    }
   ],
   "source": [
    "a == not b"
   ]
  },
  {
   "cell_type": "markdown",
   "metadata": {},
   "source": [
    "9. Given an array of strings, return another array containing all of its longest strings."
   ]
  },
  {
   "cell_type": "code",
   "execution_count": 90,
   "metadata": {},
   "outputs": [],
   "source": [
    "def allLongestStrings(inputArray):\n",
    "    max = len(inputArray[0])\n",
    "    for i in range(len(inputArray)-1):\n",
    "        \n",
    "        if (max<len(inputArray[i+1])):\n",
    "            max = len(inputArray[i+1])\n",
    "       \n",
    "    \n",
    "    result=[]        \n",
    "    for i in range(len(inputArray)):\n",
    "        if (len(inputArray[i])==max):\n",
    "            result.append(inputArray[i])\n",
    "    \n",
    "    return result"
   ]
  },
  {
   "cell_type": "code",
   "execution_count": 91,
   "metadata": {},
   "outputs": [],
   "source": [
    "inputArray = [\"abacaba\", \n",
    " \"abacab\", \n",
    " \"abac\", \n",
    " \"xxxxxx\"]"
   ]
  },
  {
   "cell_type": "code",
   "execution_count": 92,
   "metadata": {},
   "outputs": [
    {
     "data": {
      "text/plain": [
       "['abacaba']"
      ]
     },
     "execution_count": 92,
     "metadata": {},
     "output_type": "execute_result"
    }
   ],
   "source": [
    "allLongestStrings(inputArray)"
   ]
  },
  {
   "cell_type": "markdown",
   "metadata": {},
   "source": [
    "10. Given two strings, find the number of common characters between them."
   ]
  },
  {
   "cell_type": "code",
   "execution_count": 88,
   "metadata": {},
   "outputs": [],
   "source": [
    "def commonCharacterCount(s1, s2):\n",
    "    k=0\n",
    "    s=[]\n",
    "    \n",
    "    j=0\n",
    "    for i in range(len(s1)):\n",
    "        \n",
    "        for j in range(len(s2)):\n",
    "            if (s1[i]==s2[j]):\n",
    "                k+=1\n",
    "                s2 = list(s2) # конвертируем в список\n",
    "                del s2[j] # удаляем элемент с индексом j\n",
    "                s2 = \"\".join(s2)\n",
    "                break\n",
    "            else:\n",
    "                j+=1\n",
    "                \n",
    "    return k    \n",
    "    "
   ]
  },
  {
   "cell_type": "code",
   "execution_count": 59,
   "metadata": {},
   "outputs": [],
   "source": [
    "s1 = \"zzzz\"\n",
    "s2 = \"zzzzzzz\""
   ]
  },
  {
   "cell_type": "code",
   "execution_count": 89,
   "metadata": {},
   "outputs": [
    {
     "data": {
      "text/plain": [
       "4"
      ]
     },
     "execution_count": 89,
     "metadata": {},
     "output_type": "execute_result"
    }
   ],
   "source": [
    "commonCharacterCount(s1, s2)"
   ]
  },
  {
   "cell_type": "markdown",
   "metadata": {},
   "source": [
    "11. Ticket numbers usually consist of an even number of digits. A ticket number is considered lucky if the sum of the first half of the digits is equal to the sum of the second half.\n",
    "\n",
    "Given a ticket number n, determine if it's lucky or not."
   ]
  },
  {
   "cell_type": "code",
   "execution_count": 85,
   "metadata": {},
   "outputs": [],
   "source": [
    "def isLucky(n):\n",
    "    sum_left = 0\n",
    "    sum_right=0\n",
    "    if (len(str(n)) % 2 == 1):\n",
    "        return False\n",
    "    else:\n",
    "        stroka = str(n)\n",
    "        length = len(stroka) // 2\n",
    "        for i in range(length):\n",
    "            sum_left+=int(stroka[i])\n",
    "        j=len(stroka)-1\n",
    "        while j>=length:\n",
    "            sum_right+=int(stroka[j])\n",
    "            j-=1\n",
    "    \n",
    "    if(sum_left == sum_right):\n",
    "        return  True\n",
    "    else: \n",
    "        return False\n",
    "        "
   ]
  },
  {
   "cell_type": "code",
   "execution_count": 86,
   "metadata": {},
   "outputs": [],
   "source": [
    "n = 239017"
   ]
  },
  {
   "cell_type": "code",
   "execution_count": 87,
   "metadata": {},
   "outputs": [
    {
     "data": {
      "text/plain": [
       "False"
      ]
     },
     "execution_count": 87,
     "metadata": {},
     "output_type": "execute_result"
    }
   ],
   "source": [
    "isLucky(n)"
   ]
  },
  {
   "cell_type": "markdown",
   "metadata": {},
   "source": [
    "12. Some people are standing in a row in a park. There are trees between them which cannot be moved. Your task is to rearrange the people by their heights in a non-descending order without moving the trees. People can be very tall!"
   ]
  },
  {
   "cell_type": "code",
   "execution_count": 5,
   "metadata": {},
   "outputs": [],
   "source": [
    "def sortByHeight(a):\n",
    "    b=[]\n",
    "    for i in range(len(a)):\n",
    "        if (a[i] != -1):\n",
    "            b.append(a[i])\n",
    "    length=1  \n",
    "    #sorting\n",
    "    if b:\n",
    "        while (length != len(b)):\n",
    "\n",
    "            for i in range(len(b)-length):\n",
    "                if (b[i]>b[i+1]):\n",
    "                    temp = b[i+1]\n",
    "                    b[i+1]=b[i]\n",
    "                    b[i] = temp\n",
    "            length+=1  \n",
    "    k=0 \n",
    "    new=[]\n",
    "    for i in range(len(a)):\n",
    "            \n",
    "        if (a[i] == -1):\n",
    "            new.append(a[i])\n",
    "        else:\n",
    "            new.append(b[k])\n",
    "            k+=1\n",
    "    return new  "
   ]
  },
  {
   "cell_type": "code",
   "execution_count": 6,
   "metadata": {},
   "outputs": [
    {
     "data": {
      "text/plain": [
       "[2, 2, 4, 9, 11, 16]"
      ]
     },
     "execution_count": 6,
     "metadata": {},
     "output_type": "execute_result"
    }
   ],
   "source": [
    "sortByHeight(a)"
   ]
  },
  {
   "cell_type": "code",
   "execution_count": 4,
   "metadata": {},
   "outputs": [],
   "source": [
    "a = [4, 2, 9, 11, 2, 16]"
   ]
  },
  {
   "cell_type": "markdown",
   "metadata": {},
   "source": [
    "13. Write a function that reverses characters in (possibly nested) parentheses in the input string.\n",
    "\n",
    "Input strings will always be well-formed with matching ()s."
   ]
  },
  {
   "cell_type": "code",
   "execution_count": 54,
   "metadata": {},
   "outputs": [],
   "source": [
    "inputString = \"foo(bar(baz))blim\""
   ]
  },
  {
   "cell_type": "code",
   "execution_count": 63,
   "metadata": {},
   "outputs": [],
   "source": [
    "def reverseInParentheses(inputString):\n",
    "    for i in range(len(inputString)):\n",
    "        if inputString[i] == '(':\n",
    "            start = i\n",
    "            \n",
    "        if inputString[i] == ')':\n",
    "            end = i\n",
    "            \n",
    "            return reverseInParentheses(inputString[:start] + inputString[start+1 : end][::-1] + inputString[end+1:])\n",
    "        \n",
    "    return inputString"
   ]
  },
  {
   "cell_type": "code",
   "execution_count": 64,
   "metadata": {},
   "outputs": [
    {
     "data": {
      "text/plain": [
       "'foobazrabblim'"
      ]
     },
     "execution_count": 64,
     "metadata": {},
     "output_type": "execute_result"
    }
   ],
   "source": [
    "reverseInParentheses(inputString)"
   ]
  },
  {
   "cell_type": "markdown",
   "metadata": {},
   "source": [
    "14. Several people are standing in a row and need to be divided into two teams. The first person goes into team 1, the second goes into team 2, the third goes into team 1 again, the fourth into team 2, and so on.\n",
    "\n",
    "You are given an array of positive integers - the weights of the people. Return an array of two integers, where the first element is the total weight of team 1, and the second element is the total weight of team 2 after the division is complete."
   ]
  },
  {
   "cell_type": "code",
   "execution_count": 69,
   "metadata": {},
   "outputs": [],
   "source": [
    "def alternatingSums(a):\n",
    "    sum=[0]*2\n",
    "   \n",
    "    for i in range(len(a)):\n",
    "        if (i % 2 == 0):\n",
    "            sum[0]+=a[i]\n",
    "        elif (i % 2 == 1):\n",
    "            sum[1]+=a[i]\n",
    "        \n",
    "    return sum"
   ]
  },
  {
   "cell_type": "code",
   "execution_count": 72,
   "metadata": {},
   "outputs": [],
   "source": [
    "a = [100, 51, 50, 100]"
   ]
  },
  {
   "cell_type": "code",
   "execution_count": 73,
   "metadata": {},
   "outputs": [
    {
     "data": {
      "text/plain": [
       "[150, 151]"
      ]
     },
     "execution_count": 73,
     "metadata": {},
     "output_type": "execute_result"
    }
   ],
   "source": [
    "alternatingSums(a)"
   ]
  },
  {
   "cell_type": "markdown",
   "metadata": {},
   "source": [
    "15. Given a rectangular matrix of characters, add a border of asterisks(*) to it."
   ]
  },
  {
   "cell_type": "code",
   "execution_count": 121,
   "metadata": {},
   "outputs": [],
   "source": [
    "picture = [\"abc\",\n",
    "           \"ded\"]"
   ]
  },
  {
   "cell_type": "code",
   "execution_count": 122,
   "metadata": {},
   "outputs": [],
   "source": [
    "def addBorder(picture):\n",
    "    for i in range(len(picture)):\n",
    "        \n",
    "        picture[i]= \"*\"+picture[i]+\"*\"\n",
    "        \n",
    "    n=len(picture[0])\n",
    "    picture.insert(0, '*'*n)\n",
    "    picture.append('*'*n)\n",
    "    return picture"
   ]
  },
  {
   "cell_type": "code",
   "execution_count": 123,
   "metadata": {},
   "outputs": [
    {
     "name": "stdout",
     "output_type": "stream",
     "text": [
      "abc\n",
      "*abc*\n",
      "ded\n",
      "*ded*\n"
     ]
    },
    {
     "data": {
      "text/plain": [
       "['*****', '*abc*', '*ded*', '*****']"
      ]
     },
     "execution_count": 123,
     "metadata": {},
     "output_type": "execute_result"
    }
   ],
   "source": [
    "addBorder(picture)"
   ]
  },
  {
   "cell_type": "markdown",
   "metadata": {},
   "source": [
    "16. Two arrays are called similar if one can be obtained from another by swapping at most one pair of elements in one of the arrays.\n",
    "\n",
    "Given two arrays a and b, check whether they are similar."
   ]
  },
  {
   "cell_type": "code",
   "execution_count": 17,
   "metadata": {},
   "outputs": [],
   "source": [
    "a = [1, 2, 2]\n",
    "b = [2, 1, 1]"
   ]
  },
  {
   "cell_type": "code",
   "execution_count": 18,
   "metadata": {},
   "outputs": [],
   "source": [
    "def areSimilar(a, b):\n",
    "    \n",
    "    count=[]\n",
    "    if (len(a) != len(b)):\n",
    "        return False\n",
    "    \n",
    "    for i in range(len(a)):\n",
    "        if (a[i] != b[i]):\n",
    "            count.append(i)\n",
    "    if (len(count) >2) or (len(count)==1):\n",
    "        return False\n",
    "    elif (len(count) == 0):\n",
    "        return True\n",
    "    \n",
    "    temp=a[count[0]]\n",
    "    a[count[0]]=a[count[1]]\n",
    "    a[count[1]]=temp\n",
    "    \n",
    "    for i in range(len(a)):\n",
    "        if (a[i] != b[i]):\n",
    "            return False\n",
    "    return True    "
   ]
  },
  {
   "cell_type": "code",
   "execution_count": 19,
   "metadata": {},
   "outputs": [
    {
     "data": {
      "text/plain": [
       "False"
      ]
     },
     "execution_count": 19,
     "metadata": {},
     "output_type": "execute_result"
    }
   ],
   "source": [
    "areSimilar(a, b)"
   ]
  },
  {
   "cell_type": "markdown",
   "metadata": {},
   "source": [
    "17. You are given an array of integers. On each move you are allowed to increase exactly one of its element by one. Find the minimal number of moves required to obtain a strictly increasing sequence from the input."
   ]
  },
  {
   "cell_type": "code",
   "execution_count": 55,
   "metadata": {},
   "outputs": [],
   "source": [
    "inputArray = [-1000, 0, -2, 0]"
   ]
  },
  {
   "cell_type": "code",
   "execution_count": 56,
   "metadata": {},
   "outputs": [],
   "source": [
    "def arrayChange(inputArray):\n",
    "    count=0\n",
    "    for i in range(len(inputArray)-1):\n",
    "        \n",
    "        if (inputArray[i]>=inputArray[i+1]):\n",
    "            \n",
    "            count+=inputArray[i]-inputArray[i+1]+1\n",
    "            inputArray[i+1]+=(inputArray[i]-inputArray[i+1]+1)\n",
    "            \n",
    "                \n",
    "    return count    "
   ]
  },
  {
   "cell_type": "code",
   "execution_count": 57,
   "metadata": {},
   "outputs": [
    {
     "data": {
      "text/plain": [
       "5"
      ]
     },
     "execution_count": 57,
     "metadata": {},
     "output_type": "execute_result"
    }
   ],
   "source": [
    "arrayChange(inputArray)"
   ]
  },
  {
   "cell_type": "markdown",
   "metadata": {},
   "source": [
    "18. Given a string, find out if its characters can be rearranged to form a palindrome."
   ]
  },
  {
   "cell_type": "code",
   "execution_count": 69,
   "metadata": {},
   "outputs": [],
   "source": [
    "inputString = \"aaaaaaaaaaaaaaaaaaaaaaaaaaaaaabc\""
   ]
  },
  {
   "cell_type": "code",
   "execution_count": 70,
   "metadata": {},
   "outputs": [],
   "source": [
    "def palindromeRearranging(inputString):\n",
    "    \n",
    "    d = {}\n",
    "    \n",
    "    for i in inputString:\n",
    "        if i in d:\n",
    "            d[i] +=1\n",
    "        else:\n",
    "            d[i] = 1\n",
    "    \n",
    "    count=0\n",
    "    \n",
    "    for key in d:\n",
    "        \n",
    "        if (d[key] % 2 == 1):\n",
    "            count+=1\n",
    "    \n",
    "    if count>1:\n",
    "        return False\n",
    "    else:\n",
    "        return True        "
   ]
  },
  {
   "cell_type": "code",
   "execution_count": 71,
   "metadata": {},
   "outputs": [
    {
     "data": {
      "text/plain": [
       "False"
      ]
     },
     "execution_count": 71,
     "metadata": {},
     "output_type": "execute_result"
    }
   ],
   "source": [
    "palindromeRearranging(inputString)"
   ]
  },
  {
   "cell_type": "markdown",
   "metadata": {},
   "source": [
    "19. Call two arms equally strong if the heaviest weights they each are able to lift are equal.\n",
    "\n",
    "Call two people equally strong if their strongest arms are equally strong (the strongest arm can be both the right and the left), and so are their weakest arms.\n",
    "\n",
    "Given your and your friend's arms' lifting capabilities find out if you two are equally strong."
   ]
  },
  {
   "cell_type": "code",
   "execution_count": 75,
   "metadata": {},
   "outputs": [],
   "source": [
    "yourLeft = 5\n",
    "yourRight = 20\n",
    "friendsLeft = 20\n",
    "friendsRight = 15"
   ]
  },
  {
   "cell_type": "code",
   "execution_count": 76,
   "metadata": {},
   "outputs": [],
   "source": [
    "def areEquallyStrong(yourLeft, yourRight, friendsLeft, friendsRight):\n",
    "    \n",
    "    if yourLeft <=yourRight:\n",
    "        strong1=yourRight\n",
    "        weak1=yourLeft\n",
    "    else:\n",
    "        strong1=yourLeft\n",
    "        weak1=yourRight\n",
    "        \n",
    "    if friendsLeft <=friendsRight:\n",
    "        strong2=friendsRight\n",
    "        weak2=friendsLeft\n",
    "    else:\n",
    "        strong2=friendsLeft\n",
    "        weak2=friendsRight\n",
    "        \n",
    "    if (strong1 == strong2 ) and (weak1 == weak2):\n",
    "        return True\n",
    "    else:\n",
    "        return False\n",
    "        "
   ]
  },
  {
   "cell_type": "code",
   "execution_count": 77,
   "metadata": {},
   "outputs": [
    {
     "data": {
      "text/plain": [
       "False"
      ]
     },
     "execution_count": 77,
     "metadata": {},
     "output_type": "execute_result"
    }
   ],
   "source": [
    "areEquallyStrong(yourLeft, yourRight, friendsLeft, friendsRight)"
   ]
  },
  {
   "cell_type": "code",
   "execution_count": 81,
   "metadata": {},
   "outputs": [],
   "source": [
    "s=[1,2,3,3]"
   ]
  },
  {
   "cell_type": "code",
   "execution_count": 82,
   "metadata": {},
   "outputs": [],
   "source": [
    "def test(s):\n",
    "    \n",
    "    d = {}\n",
    "    \n",
    "    for i in range(len(s)):\n",
    "        if s[i] in d:\n",
    "            d[s[i]] +=1\n",
    "        else:\n",
    "            d[s[i]] = 1\n",
    "    \n",
    "    for key in d:\n",
    "        \n",
    "        if (d[key] > 1):\n",
    "            return key     "
   ]
  },
  {
   "cell_type": "code",
   "execution_count": 83,
   "metadata": {},
   "outputs": [
    {
     "data": {
      "text/plain": [
       "3"
      ]
     },
     "execution_count": 83,
     "metadata": {},
     "output_type": "execute_result"
    }
   ],
   "source": [
    "test(s)"
   ]
  },
  {
   "cell_type": "markdown",
   "metadata": {},
   "source": [
    "20. Given an array of integers, find the maximal absolute difference between any two of its adjacent elements."
   ]
  },
  {
   "cell_type": "code",
   "execution_count": 84,
   "metadata": {},
   "outputs": [],
   "source": [
    "inputArray = [2, 4, 1, 0]"
   ]
  },
  {
   "cell_type": "code",
   "execution_count": 86,
   "metadata": {},
   "outputs": [],
   "source": [
    "def arrayMaximalAdjacentDifference(inputArray):\n",
    "        max=0\n",
    "        for i in range(len(inputArray)-1):\n",
    "            \n",
    "            if (abs(inputArray[i]-inputArray[i+1]) >max):\n",
    "                    max = abs(inputArray[i]-inputArray[i+1])\n",
    "                    \n",
    "        return max        "
   ]
  },
  {
   "cell_type": "code",
   "execution_count": 87,
   "metadata": {},
   "outputs": [
    {
     "data": {
      "text/plain": [
       "3"
      ]
     },
     "execution_count": 87,
     "metadata": {},
     "output_type": "execute_result"
    }
   ],
   "source": [
    "arrayMaximalAdjacentDifference(inputArray)"
   ]
  },
  {
   "cell_type": "markdown",
   "metadata": {},
   "source": [
    "21. An IP address is a numerical label assigned to each device (e.g., computer, printer) participating in a computer network that uses the Internet Protocol for communication. There are two versions of the Internet protocol, and thus two versions of addresses. One of them is the IPv4 address.\n",
    "\n",
    "Given a string, find out if it satisfies the IPv4 address naming rules."
   ]
  },
  {
   "cell_type": "code",
   "execution_count": 152,
   "metadata": {},
   "outputs": [],
   "source": [
    "def isIPv4Address(inputString):\n",
    "    \n",
    "    l = inputString.split('.')\n",
    "    \n",
    "    if (len(l) != 4):\n",
    "        return False\n",
    "    \n",
    "    for i in range(len(l)):\n",
    "        \n",
    "        if l[i].isdigit():\n",
    "            \n",
    "        \n",
    "            if (l[i] == '' or  (l[i].startswith('0') and len(l[i])>1) or int(l[i]) > 255 or int(l[i])<0):\n",
    "                return False\n",
    "            \n",
    "        else:\n",
    "            return False\n",
    "            \n",
    "           \n",
    "        \n",
    "    \n",
    "    return True\n",
    "        \n",
    "            \n",
    "        "
   ]
  },
  {
   "cell_type": "code",
   "execution_count": 153,
   "metadata": {},
   "outputs": [],
   "source": [
    "inputString = \"64.233.161.0\""
   ]
  },
  {
   "cell_type": "code",
   "execution_count": 154,
   "metadata": {},
   "outputs": [
    {
     "data": {
      "text/plain": [
       "True"
      ]
     },
     "execution_count": 154,
     "metadata": {},
     "output_type": "execute_result"
    }
   ],
   "source": [
    "isIPv4Address(inputString)"
   ]
  },
  {
   "cell_type": "markdown",
   "metadata": {},
   "source": [
    "22. You are given an array of integers representing coordinates of obstacles situated on a straight line.\n",
    "\n",
    "Assume that you are jumping from the point with coordinate 0 to the right. You are allowed only to make jumps of the same length represented by some integer.\n",
    "\n",
    "Find the minimal length of the jump enough to avoid all the obstacles."
   ]
  },
  {
   "cell_type": "code",
   "execution_count": 178,
   "metadata": {},
   "outputs": [],
   "source": [
    "def avoidObstacles(obs): \n",
    "      \n",
    "    # sort the list in ascending order \n",
    "    obs = sorted(obs) \n",
    "      \n",
    "    # set jump distance to 1 \n",
    "    jump_dist = 1\n",
    "      \n",
    "    # flag to check if current jump distance  \n",
    "    # hits an obstacle \n",
    "    obstacle_hit = True\n",
    "  \n",
    "    while(obstacle_hit): \n",
    "          \n",
    "        obstacle_hit = False\n",
    "        jump_dist += 1\n",
    "          \n",
    "        # checking if jumping with current length \n",
    "        # hits an obstacle \n",
    "        for i in range(0, len(obs)): \n",
    "            if obs[i] % jump_dist == 0: \n",
    "                  \n",
    "                # if obstacle is hit repeat process \n",
    "                # after increasing jump distance \n",
    "                obstacle_hit = True\n",
    "                break\n",
    "  \n",
    "    return jump_dist "
   ]
  },
  {
   "cell_type": "code",
   "execution_count": 176,
   "metadata": {},
   "outputs": [],
   "source": [
    "inputArray = [1, 4, 10, 6, 2]"
   ]
  },
  {
   "cell_type": "code",
   "execution_count": 179,
   "metadata": {},
   "outputs": [
    {
     "data": {
      "text/plain": [
       "7"
      ]
     },
     "execution_count": 179,
     "metadata": {},
     "output_type": "execute_result"
    }
   ],
   "source": [
    "avoidObstacles(inputArray) "
   ]
  },
  {
   "cell_type": "code",
   "execution_count": null,
   "metadata": {},
   "outputs": [],
   "source": []
  }
 ],
 "metadata": {
  "kernelspec": {
   "display_name": "Python 3",
   "language": "python",
   "name": "python3"
  },
  "language_info": {
   "codemirror_mode": {
    "name": "ipython",
    "version": 3
   },
   "file_extension": ".py",
   "mimetype": "text/x-python",
   "name": "python",
   "nbconvert_exporter": "python",
   "pygments_lexer": "ipython3",
   "version": "3.7.3"
  }
 },
 "nbformat": 4,
 "nbformat_minor": 2
}
